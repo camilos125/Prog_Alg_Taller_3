{
  "nbformat": 4,
  "nbformat_minor": 0,
  "metadata": {
    "colab": {
      "provenance": [],
      "authorship_tag": "ABX9TyPk4ERA4NESOeAQ9uhGYB7W",
      "include_colab_link": true
    },
    "kernelspec": {
      "name": "python3",
      "display_name": "Python 3"
    },
    "language_info": {
      "name": "python"
    }
  },
  "cells": [
    {
      "cell_type": "markdown",
      "metadata": {
        "id": "view-in-github",
        "colab_type": "text"
      },
      "source": [
        "<a href=\"https://colab.research.google.com/github/camilos125/Prog_Alg_Taller_3/blob/main/taller_3.ipynb\" target=\"_parent\"><img src=\"https://colab.research.google.com/assets/colab-badge.svg\" alt=\"Open In Colab\"/></a>"
      ]
    },
    {
      "cell_type": "markdown",
      "source": [
        "## Sintaxis basica de python\n",
        "\n",
        "- Camilo Andres Salgado Alvarez      ID:000500101                camilo.salgado@upb.edu.co\n",
        "- Nataly Ordosgoitia Contreras ID:000499003 nataly.Ordosgoitia@upb.edu.co"
      ],
      "metadata": {
        "id": "GMQ5g5fIjXUD"
      }
    },
    {
      "cell_type": "markdown",
      "source": [
        "## PROBLEMA 1\n",
        "Calcular y mostrar la posición de una partículaque experimentamovimiento uniformemente acelerado a partir de su posición inicial(𝑥0), velocidad inicial(𝑣0)y aceleración(𝑎) en dos instantes de tiempo diferentes."
      ],
      "metadata": {
        "id": "03FmhqfrphNp"
      }
    },
    {
      "cell_type": "code",
      "execution_count": 10,
      "metadata": {
        "colab": {
          "base_uri": "https://localhost:8080/"
        },
        "id": "kLGo15hbjEzv",
        "outputId": "4774cae4-7df9-471c-ab34-d07141b257a4"
      },
      "outputs": [
        {
          "output_type": "stream",
          "name": "stdout",
          "text": [
            "Ingresa la posición inicial: 7\n",
            "Ingresa la velocidad inicial: 3.2\n",
            "Ingresa la aceleración: 8\n",
            "Ingresa el primer instante de tiempo: 12\n",
            "Ingresa el segundo instante de tiempo: 20\n",
            "Posición en t=12.0: 621.4\n",
            "Posición en t=20.0: 1671.0\n"
          ]
        }
      ],
      "source": [
        "def calcular_posicion(x0, v0, a, t):\n",
        "\n",
        "    x = x0 + v0 * t + 0.5 * a * t ** 2\n",
        "    return x\n",
        "\n",
        "\n",
        "x0 = float(input(\"Ingresa la posición inicial: \"))\n",
        "v0 = float(input(\"Ingresa la velocidad inicial: \"))\n",
        "a = float(input(\"Ingresa la aceleración: \"))\n",
        "\n",
        "t1 = float(input(\"Ingresa el primer instante de tiempo: \"))\n",
        "t2 = float(input(\"Ingresa el segundo instante de tiempo: \"))\n",
        "\n",
        "\n",
        "x1 = calcular_posicion(x0, v0, a, t1)\n",
        "x2 = calcular_posicion(x0, v0, a, t2)\n",
        "\n",
        "\n",
        "print(f\"Posición en t={t1}: {x1}\")\n",
        "print(f\"Posición en t={t2}: {x2}\")\n"
      ]
    },
    {
      "cell_type": "markdown",
      "source": [
        "## PROBLEMA 2\n",
        "Calcular y mostrar la distancia entre dos puntos 𝑃1y 𝑃2ubicados en las coordenadas (𝑥1,𝑦1)y (𝑥2,𝑦2)."
      ],
      "metadata": {
        "id": "39mxqmt0p16U"
      }
    },
    {
      "cell_type": "code",
      "source": [
        "import math\n",
        "\n",
        "def calcular_distancia(x1, y1, x2, y2):\n",
        "    distancia = math.sqrt((x2 - x1)**2 + (y2 - y1)**2)\n",
        "    return distancia\n",
        "\n",
        "\n",
        "x1 = float(input(\"Ingresa la coordenada x del punto P1: \"))\n",
        "y1 = float(input(\"Ingresa la coordenada y del punto P1: \"))\n",
        "x2 = float(input(\"Ingresa la coordenada x del punto P2: \"))\n",
        "y2 = float(input(\"Ingresa la coordenada y del punto P2: \"))\n",
        "\n",
        "\n",
        "distancia = calcular_distancia(x1, y1, x2, y2)\n",
        "\n",
        "\n",
        "print(f\"La distancia entre P1({x1}, {y1}) y P2({x2}, {y2}) es: {distancia}\")\n"
      ],
      "metadata": {
        "colab": {
          "base_uri": "https://localhost:8080/"
        },
        "id": "aEv2PWNQmYxz",
        "outputId": "c123442c-89c9-4cc5-b7b6-995b766ffa0a"
      },
      "execution_count": 11,
      "outputs": [
        {
          "output_type": "stream",
          "name": "stdout",
          "text": [
            "Ingresa la coordenada x del punto P1: 7\n",
            "Ingresa la coordenada y del punto P1: 2.4\n",
            "Ingresa la coordenada x del punto P2: 4\n",
            "Ingresa la coordenada y del punto P2: 5.7\n",
            "La distancia entre P1(7.0, 2.4) y P2(4.0, 5.7) es: 4.459820624195552\n"
          ]
        }
      ]
    },
    {
      "cell_type": "markdown",
      "source": [
        "## PROBLEMA 3\n",
        "Calcular y mostrar el valor del volumen de un cilindro"
      ],
      "metadata": {
        "id": "4jQIAQbsqFOL"
      }
    },
    {
      "cell_type": "code",
      "source": [
        "import math\n",
        "\n",
        "def calcular_volumen_cilindro(radio, altura):\n",
        "    volumen = math.pi * radio ** 2 * altura\n",
        "    return volumen\n",
        "\n",
        "\n",
        "radio = float(input(\"Ingresa el radio del cilindro: \"))\n",
        "altura = float(input(\"Ingresa la altura del cilindro: \"))\n",
        "\n",
        "\n",
        "volumen_cilindro = calcular_volumen_cilindro(radio, altura)\n",
        "\n",
        "\n",
        "print(f\"El volumen del cilindro con radio {radio} y altura {altura} es: {volumen_cilindro}\")\n"
      ],
      "metadata": {
        "colab": {
          "base_uri": "https://localhost:8080/"
        },
        "id": "9X4jhDfOmutN",
        "outputId": "813582ea-5cb3-438c-9b4a-1f6865dbb3b6"
      },
      "execution_count": 12,
      "outputs": [
        {
          "output_type": "stream",
          "name": "stdout",
          "text": [
            "Ingresa el radio del cilindro: 4.2\n",
            "Ingresa la altura del cilindro: 8\n",
            "El volumen del cilindro con radio 4.2 y altura 8.0 es: 443.3415552745916\n"
          ]
        }
      ]
    },
    {
      "cell_type": "markdown",
      "source": [
        "## PROBLEMA 4\n",
        "Calcular y mostrarel resultado de las operaciones lógicaS dadas por el profesor"
      ],
      "metadata": {
        "id": "nzwqlDPgqYpz"
      }
    },
    {
      "cell_type": "code",
      "source": [
        "A = float(input(\"Ingresa el valor de A: \"))\n",
        "B = float(input(\"Ingresa el valor de B: \"))\n",
        "C = float(input(\"Ingresa el valor de C: \"))\n",
        "D = float(input(\"Ingresa el valor de D: \"))\n",
        "\n",
        "\n",
        "resultado_1 = A > B and B > D\n",
        "resultado_2 = B <= C or C < D\n",
        "resultado_3 = A == B and B > C\n",
        "resultado_4 = A < C or B < C\n",
        "resultado_5 = A + D < C and B > 5\n",
        "resultado_6 = D - C >= -A * B\n",
        "resultado_7 = D * C == 5 or C * A > 9\n",
        "resultado_8 = A * B + C > -D * 10\n",
        "\n",
        "print(\"Resultado 1:\", resultado_1)\n",
        "print(\"Resultado 2:\", resultado_2)\n",
        "print(\"Resultado 3:\", resultado_3)\n",
        "print(\"Resultado 4:\", resultado_4)\n",
        "print(\"Resultado 5:\", resultado_5)\n",
        "print(\"Resultado 6:\", resultado_6)\n",
        "print(\"Resultado 7:\", resultado_7)\n",
        "print(\"Resultado 8:\", resultado_8)\n",
        "\n"
      ],
      "metadata": {
        "colab": {
          "base_uri": "https://localhost:8080/"
        },
        "id": "K_9aYVBvno3C",
        "outputId": "0c898498-c7f9-4f3f-bf66-2863ca163a7f"
      },
      "execution_count": 14,
      "outputs": [
        {
          "output_type": "stream",
          "name": "stdout",
          "text": [
            "Ingresa el valor de A: 1.2\n",
            "Ingresa el valor de B: 2.3\n",
            "Ingresa el valor de C: 6.4\n",
            "Ingresa el valor de D: 8.9\n",
            "Resultado 1: False\n",
            "Resultado 2: True\n",
            "Resultado 3: False\n",
            "Resultado 4: True\n",
            "Resultado 5: False\n",
            "Resultado 6: True\n",
            "Resultado 7: False\n",
            "Resultado 8: True\n"
          ]
        }
      ]
    }
  ]
}